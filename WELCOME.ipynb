{
 "cells": [
  {
   "cell_type": "markdown",
   "id": "6aacc891-0440-4c4d-b6c7-08d3beeae9b2",
   "metadata": {},
   "source": [
    "# Welcome!\n",
    "\n",
    "Looking how to get started with the workshop?\n",
    "\n",
    "🖱️Scroll down in the Launcher Tab and select the workshop from the section:\n",
    "\n",
    "![NVIDIA DevX Workshops](assets/launcher_header.png)\n",
    "\n",
    "Where you can find the workshop launchers.\n",
    "\n",
    "👇Or you can launch the workshop directly by running this cell!"
   ]
  },
  {
   "cell_type": "code",
   "execution_count": null,
   "id": "d893d020-8b78-4029-b258-95175de74c9d",
   "metadata": {},
   "outputs": [],
   "source": [
    "from pathlib import Path\n",
    "from IPython.display import Javascript\n",
    "\n",
    "Javascript(Path(\".devx/_static/js/launch_workshop.js\").open().read())"
   ]
  },
  {
   "cell_type": "code",
   "execution_count": null,
   "id": "62f58904-3fea-4346-a4ce-1a5070fa2f16",
   "metadata": {},
   "outputs": [],
   "source": []
  }
 ],
 "metadata": {
  "kernelspec": {
   "display_name": "Python 3 (ipykernel)",
   "language": "python",
   "name": "python3"
  },
  "language_info": {
   "codemirror_mode": {
    "name": "ipython",
    "version": 3
   },
   "file_extension": ".py",
   "mimetype": "text/x-python",
   "name": "python",
   "nbconvert_exporter": "python",
   "pygments_lexer": "ipython3",
   "version": "3.12.9"
  }
 },
 "nbformat": 4,
 "nbformat_minor": 5
}
